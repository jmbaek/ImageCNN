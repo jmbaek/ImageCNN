{
  "nbformat": 4,
  "nbformat_minor": 0,
  "metadata": {
    "colab": {
      "name": "Untitled0.ipynb",
      "provenance": [],
      "machine_shape": "hm",
      "collapsed_sections": [],
      "authorship_tag": "ABX9TyMGe7xZPymkCWi9Vcys2gDo",
      "include_colab_link": true
    },
    "kernelspec": {
      "name": "python3",
      "display_name": "Python 3"
    },
    "language_info": {
      "name": "python"
    },
    "accelerator": "GPU"
  },
  "cells": [
    {
      "cell_type": "markdown",
      "metadata": {
        "id": "view-in-github",
        "colab_type": "text"
      },
      "source": [
        "<a href=\"https://colab.research.google.com/gist/jmbaek/88fb96077400b48b75f7ad7e9c1f0948/untitled0.ipynb\" target=\"_parent\"><img src=\"https://colab.research.google.com/assets/colab-badge.svg\" alt=\"Open In Colab\"/></a>"
      ]
    },
    {
      "cell_type": "code",
      "execution_count": null,
      "metadata": {
        "id": "5vLiSSKVHLWm"
      },
      "outputs": [],
      "source": [
        ""
      ]
    },
    {
      "cell_type": "code",
      "source": [
        "!git clone https://github.com/mehra-deepak/Plant-Disease-Detection.git"
      ],
      "metadata": {
        "colab": {
          "base_uri": "https://localhost:8080/"
        },
        "id": "ljpKwYgZJpKe",
        "outputId": "8c5ed263-0f9a-4a01-8ed3-200a537293f8"
      },
      "execution_count": null,
      "outputs": [
        {
          "output_type": "stream",
          "name": "stdout",
          "text": [
            "Cloning into 'Plant-Disease-Detection'...\n",
            "remote: Enumerating objects: 20439, done.\u001b[K\n",
            "remote: Counting objects: 100% (84/84), done.\u001b[K\n",
            "remote: Compressing objects: 100% (48/48), done.\u001b[K\n",
            "remote: Total 20439 (delta 34), reused 76 (delta 30), pack-reused 20355\u001b[K\n",
            "Receiving objects: 100% (20439/20439), 181.04 MiB | 13.46 MiB/s, done.\n",
            "Resolving deltas: 100% (40/40), done.\n"
          ]
        }
      ]
    },
    {
      "cell_type": "code",
      "source": [
        "!mv Plant-Disease-Detection/image_classification/dataset/ dataset/\n",
        "!mv Plant-Disease-Detection/image_classification/output/ output/"
      ],
      "metadata": {
        "id": "Ti_YP35fLc0M"
      },
      "execution_count": null,
      "outputs": []
    },
    {
      "cell_type": "code",
      "source": [
        "!pip install mahotas\n",
        "!pip install joblib"
      ],
      "metadata": {
        "colab": {
          "base_uri": "https://localhost:8080/"
        },
        "id": "OLtFv4DARJBD",
        "outputId": "b87870a1-2ef2-437d-e92f-5d4f1f76fa64"
      },
      "execution_count": null,
      "outputs": [
        {
          "output_type": "stream",
          "name": "stdout",
          "text": [
            "Collecting mahotas\n",
            "  Downloading mahotas-1.4.12-cp37-cp37m-manylinux_2_12_x86_64.manylinux2010_x86_64.whl (5.7 MB)\n",
            "\u001b[K     |████████████████████████████████| 5.7 MB 3.6 MB/s \n",
            "\u001b[?25hRequirement already satisfied: numpy in /usr/local/lib/python3.7/dist-packages (from mahotas) (1.21.5)\n",
            "Installing collected packages: mahotas\n",
            "Successfully installed mahotas-1.4.12\n",
            "Requirement already satisfied: joblib in /usr/local/lib/python3.7/dist-packages (1.1.0)\n"
          ]
        }
      ]
    },
    {
      "cell_type": "code",
      "source": [
        "#-----------------------------------\n",
        "# GLOBAL FEATURE EXTRACTION\n",
        "#-----------------------------------\n",
        "from sklearn.preprocessing import LabelEncoder\n",
        "from sklearn.preprocessing import MinMaxScaler\n",
        "import numpy as np\n",
        "import mahotas\n",
        "import cv2\n",
        "import os\n",
        "import h5py\n",
        "\n",
        "#--------------------\n",
        "# tunable-parameters\n",
        "#--------------------\n",
        "images_per_class       = 800\n",
        "fixed_size             = tuple((500, 500))\n",
        "train_path             = \"dataset/train\"\n",
        "h5_train_data          = 'output/train_data.h5'\n",
        "h5_train_labels        = 'output/train_labels.h5'\n",
        "bins                   = 8"
      ],
      "metadata": {
        "id": "rYhI1VDVH3Kl"
      },
      "execution_count": null,
      "outputs": []
    },
    {
      "cell_type": "code",
      "source": [
        "# Converting each image to RGB from BGR format\n",
        "\n",
        "def rgb_bgr(image):\n",
        "    rgb_img = cv2.cvtColor(image, cv2.COLOR_BGR2RGB)\n",
        "    return rgb_img\n",
        "\n",
        "# Conversion to HSV image format from RGB\n",
        "\n",
        "def bgr_hsv(rgb_img):\n",
        "    hsv_img = cv2.cvtColor(rgb_img, cv2.COLOR_RGB2HSV)\n",
        "    return hsv_img\n",
        "\n",
        "# image segmentation\n",
        "\n",
        "# for extraction of green and brown color\n",
        "\n",
        "\n",
        "def img_segmentation(rgb_img,hsv_img):\n",
        "    lower_green = np.array([25,0,20])\n",
        "    upper_green = np.array([100,255,255])\n",
        "    healthy_mask = cv2.inRange(hsv_img, lower_green, upper_green)\n",
        "    result = cv2.bitwise_and(rgb_img,rgb_img, mask=healthy_mask)\n",
        "    lower_brown = np.array([10,0,10])\n",
        "    upper_brown = np.array([30,255,255])\n",
        "    disease_mask = cv2.inRange(hsv_img, lower_brown, upper_brown)\n",
        "    disease_result = cv2.bitwise_and(rgb_img, rgb_img, mask=disease_mask)\n",
        "    final_mask = healthy_mask + disease_mask\n",
        "    final_result = cv2.bitwise_and(rgb_img, rgb_img, mask=final_mask)\n",
        "    return final_result\n",
        "\n",
        "# feature-descriptor-1: Hu Moments\n",
        "def fd_hu_moments(image):\n",
        "    image = cv2.cvtColor(image, cv2.COLOR_BGR2GRAY)\n",
        "    feature = cv2.HuMoments(cv2.moments(image)).flatten()\n",
        "    return feature\n",
        "\n",
        "# feature-descriptor-2: Haralick Texture\n",
        "def fd_haralick(image):\n",
        "    gray = cv2.cvtColor(image, cv2.COLOR_BGR2GRAY)\n",
        "    haralick = mahotas.features.haralick(gray).mean(axis=0)\n",
        "    return haralick\n",
        "\n",
        "# feature-descriptor-3: Color Histogram\n",
        "def fd_histogram(image, mask=None):\n",
        "    image = cv2.cvtColor(image, cv2.COLOR_BGR2HSV)\n",
        "    hist  = cv2.calcHist([image], [0, 1, 2], None, [bins, bins, bins], [0, 256, 0, 256, 0, 256])\n",
        "    cv2.normalize(hist, hist)\n",
        "    return hist.flatten()\n",
        "\n"
      ],
      "metadata": {
        "id": "ArGR6Dzve0uE"
      },
      "execution_count": null,
      "outputs": []
    },
    {
      "cell_type": "code",
      "source": [
        "# get the training labels\n",
        "train_labels = os.listdir(train_path)\n",
        "\n",
        "# sort the training labels\n",
        "train_labels.sort()\n",
        "print(train_labels)\n",
        "\n",
        "# empty lists to hold feature vectors and labels\n",
        "global_features = []\n",
        "labels          = []"
      ],
      "metadata": {
        "id": "j1MnbEDufLTo",
        "colab": {
          "base_uri": "https://localhost:8080/"
        },
        "outputId": "ca8b632e-045b-4575-c870-28a12f34465d"
      },
      "execution_count": null,
      "outputs": [
        {
          "output_type": "stream",
          "name": "stdout",
          "text": [
            "['diseased', 'healthy']\n"
          ]
        }
      ]
    },
    {
      "cell_type": "code",
      "source": [
        "# loop over the training data sub-folders\n",
        "for training_name in train_labels:\n",
        "    # join the training data path and each species training folder\n",
        "    dir = os.path.join(train_path, training_name)\n",
        "\n",
        "    # get the current training label\n",
        "    current_label = training_name\n",
        "\n",
        "    # loop over the images in each sub-folder\n",
        "    for x in range(1,images_per_class+1):\n",
        "        # get the image file name\n",
        "        file = dir + \"/\" + str(x) + \".jpg\"\n",
        "\n",
        "        # read the image and resize it to a fixed-size\n",
        "        image = cv2.imread(file)\n",
        "        image = cv2.resize(image, fixed_size)\n",
        "\n",
        "        \n",
        "        # Running Function Bit By Bit\n",
        "        \n",
        "        RGB_BGR       = rgb_bgr(image)\n",
        "        BGR_HSV       = bgr_hsv(RGB_BGR)\n",
        "        IMG_SEGMENT   = img_segmentation(RGB_BGR,BGR_HSV)\n",
        "\n",
        "        # Call for Global Fetaure Descriptors\n",
        "        \n",
        "        fv_hu_moments = fd_hu_moments(IMG_SEGMENT)\n",
        "        fv_haralick   = fd_haralick(IMG_SEGMENT)\n",
        "        fv_histogram  = fd_histogram(IMG_SEGMENT)\n",
        "        \n",
        "        # Concatenate \n",
        "        \n",
        "        global_feature = np.hstack([fv_histogram, fv_haralick, fv_hu_moments])\n",
        "        \n",
        "        \n",
        "\n",
        "        # update the list of labels and feature vectors\n",
        "        labels.append(current_label)\n",
        "        global_features.append(global_feature)\n",
        "\n",
        "    print(\"[STATUS] processed folder: {}\".format(current_label))\n",
        "\n",
        "print(\"[STATUS] completed Global Feature Extraction...\")# loop over the training data sub-folders\n",
        "for training_name in train_labels:\n",
        "    # join the training data path and each species training folder\n",
        "    dir = os.path.join(train_path, training_name)\n",
        "\n",
        "    # get the current training label\n",
        "    current_label = training_name\n",
        "\n",
        "    # loop over the images in each sub-folder\n",
        "    for x in range(1,images_per_class+1):\n",
        "        # get the image file name\n",
        "        file = dir + \"/\" + str(x) + \".jpg\"\n",
        "\n",
        "        # read the image and resize it to a fixed-size\n",
        "        image = cv2.imread(file)\n",
        "        image = cv2.resize(image, fixed_size)\n",
        "\n",
        "        \n",
        "        # Running Function Bit By Bit\n",
        "        \n",
        "        RGB_BGR       = rgb_bgr(image)\n",
        "        BGR_HSV       = bgr_hsv(RGB_BGR)\n",
        "        IMG_SEGMENT   = img_segmentation(RGB_BGR,BGR_HSV)\n",
        "\n",
        "        # Call for Global Fetaure Descriptors\n",
        "        \n",
        "        fv_hu_moments = fd_hu_moments(IMG_SEGMENT)\n",
        "        fv_haralick   = fd_haralick(IMG_SEGMENT)\n",
        "        fv_histogram  = fd_histogram(IMG_SEGMENT)\n",
        "        \n",
        "        # Concatenate \n",
        "        \n",
        "        global_feature = np.hstack([fv_histogram, fv_haralick, fv_hu_moments])\n",
        "        \n",
        "        \n",
        "        # update the list of labels and feature vectors\n",
        "        labels.append(current_label)\n",
        "        global_features.append(global_feature)\n",
        "\n",
        "    print(\"[STATUS] processed folder: {}\".format(current_label))\n",
        "\n",
        "print(\"[STATUS] completed Global Feature Extraction...\")"
      ],
      "metadata": {
        "colab": {
          "base_uri": "https://localhost:8080/"
        },
        "id": "lccOVJYPo4oP",
        "outputId": "9a3d3da6-43cc-4ef7-dedf-5081457c6232"
      },
      "execution_count": null,
      "outputs": [
        {
          "output_type": "stream",
          "name": "stdout",
          "text": [
            "[STATUS] processed folder: diseased\n",
            "[STATUS] processed folder: healthy\n",
            "[STATUS] completed Global Feature Extraction...\n",
            "[STATUS] processed folder: diseased\n",
            "[STATUS] processed folder: healthy\n",
            "[STATUS] completed Global Feature Extraction...\n"
          ]
        }
      ]
    },
    {
      "cell_type": "code",
      "source": [
        "# get the overall feature vector size\n",
        "print(\"[STATUS] feature vector size {}\".format(np.array(global_features).shape))"
      ],
      "metadata": {
        "colab": {
          "base_uri": "https://localhost:8080/"
        },
        "id": "-1L8_kcfo4ii",
        "outputId": "7bedf8aa-2b41-4d13-951a-80a36dc76aad"
      },
      "execution_count": null,
      "outputs": [
        {
          "output_type": "stream",
          "name": "stdout",
          "text": [
            "[STATUS] feature vector size (3200, 532)\n"
          ]
        }
      ]
    },
    {
      "cell_type": "code",
      "source": [
        "# get the overall training label size\n",
        "print(\"[STATUS] training Labels {}\".format(np.array(labels).shape))"
      ],
      "metadata": {
        "colab": {
          "base_uri": "https://localhost:8080/"
        },
        "id": "UNgxSLQNo4fQ",
        "outputId": "bad2803e-af97-4d53-9b13-40e83b05dcdf"
      },
      "execution_count": null,
      "outputs": [
        {
          "output_type": "stream",
          "name": "stdout",
          "text": [
            "[STATUS] training Labels (3200,)\n"
          ]
        }
      ]
    },
    {
      "cell_type": "code",
      "source": [
        "# encode the target labels\n",
        "targetNames = np.unique(labels)\n",
        "le          = LabelEncoder()\n",
        "target      = le.fit_transform(labels)\n",
        "print(\"[STATUS] training labels encoded...\")"
      ],
      "metadata": {
        "colab": {
          "base_uri": "https://localhost:8080/"
        },
        "id": "Nowd-Vz6o4b5",
        "outputId": "5f98c652-3fe9-4412-8a7b-1dc356c66061"
      },
      "execution_count": null,
      "outputs": [
        {
          "output_type": "stream",
          "name": "stdout",
          "text": [
            "[STATUS] training labels encoded...\n"
          ]
        }
      ]
    },
    {
      "cell_type": "code",
      "source": [
        "# scale features in the range (0-1)\n",
        "from sklearn.preprocessing import MinMaxScaler\n",
        "scaler            = MinMaxScaler(feature_range=(0, 1))\n",
        "rescaled_features = scaler.fit_transform(global_features)\n",
        "print(\"[STATUS] feature vector normalized...\")"
      ],
      "metadata": {
        "colab": {
          "base_uri": "https://localhost:8080/"
        },
        "id": "5gAHZu_do4W8",
        "outputId": "7805b533-df29-4515-bf73-e3fb30959d42"
      },
      "execution_count": null,
      "outputs": [
        {
          "output_type": "stream",
          "name": "stdout",
          "text": [
            "[STATUS] feature vector normalized...\n"
          ]
        }
      ]
    },
    {
      "cell_type": "code",
      "source": [
        "print(\"[STATUS] target labels: {}\".format(target))\n",
        "print(\"[STATUS] target labels shape: {}\".format(target.shape))"
      ],
      "metadata": {
        "colab": {
          "base_uri": "https://localhost:8080/"
        },
        "id": "e9XIcHJKo4UA",
        "outputId": "52c6e1e4-4eb6-4bd6-b4c3-2fc9d1de581e"
      },
      "execution_count": null,
      "outputs": [
        {
          "output_type": "stream",
          "name": "stdout",
          "text": [
            "[STATUS] target labels: [0 0 0 ... 1 1 1]\n",
            "[STATUS] target labels shape: (3200,)\n"
          ]
        }
      ]
    },
    {
      "cell_type": "code",
      "source": [
        "# save the feature vector using HDF5\n",
        "h5f_data = h5py.File(h5_train_data, 'w')\n",
        "h5f_data.create_dataset('dataset_1', data=np.array(rescaled_features))"
      ],
      "metadata": {
        "colab": {
          "base_uri": "https://localhost:8080/"
        },
        "id": "U4erP8oro4PU",
        "outputId": "8828e4d7-3b14-470d-c5ed-97eb08d9ee53"
      },
      "execution_count": null,
      "outputs": [
        {
          "output_type": "execute_result",
          "data": {
            "text/plain": [
              "<HDF5 dataset \"dataset_1\": shape (3200, 532), type \"<f8\">"
            ]
          },
          "metadata": {},
          "execution_count": 14
        }
      ]
    },
    {
      "cell_type": "code",
      "source": [
        "h5f_label = h5py.File(h5_train_labels, 'w')\n",
        "h5f_label.create_dataset('dataset_1', data=np.array(target))"
      ],
      "metadata": {
        "colab": {
          "base_uri": "https://localhost:8080/"
        },
        "id": "FplwgMhko4MP",
        "outputId": "92893c3d-29c8-4e0b-9b58-f6b457d6fcab"
      },
      "execution_count": null,
      "outputs": [
        {
          "output_type": "execute_result",
          "data": {
            "text/plain": [
              "<HDF5 dataset \"dataset_1\": shape (3200,), type \"<i8\">"
            ]
          },
          "metadata": {},
          "execution_count": 15
        }
      ]
    },
    {
      "cell_type": "code",
      "source": [
        "h5f_data.close()\n",
        "h5f_label.close()"
      ],
      "metadata": {
        "id": "9HVVC2U5pM26"
      },
      "execution_count": null,
      "outputs": []
    },
    {
      "cell_type": "code",
      "source": [
        "# training\n",
        "#-----------------------------------\n",
        "# TRAINING OUR MODEL\n",
        "#-----------------------------------\n",
        "import h5py\n",
        "import numpy as np\n",
        "import os\n",
        "import glob\n",
        "import cv2\n",
        "import warnings\n",
        "from matplotlib import pyplot\n",
        "from sklearn.model_selection import train_test_split, cross_val_score\n",
        "from sklearn.model_selection import KFold, StratifiedKFold\n",
        "from sklearn.metrics import confusion_matrix, accuracy_score, classification_report\n",
        "from sklearn.linear_model import LogisticRegression\n",
        "from sklearn.tree import DecisionTreeClassifier\n",
        "from sklearn.ensemble import RandomForestClassifier\n",
        "from sklearn.neighbors import KNeighborsClassifier\n",
        "from sklearn.discriminant_analysis import LinearDiscriminantAnalysis\n",
        "from sklearn.naive_bayes import GaussianNB\n",
        "from sklearn.svm import SVC\n",
        "import joblib\n",
        "\n",
        "warnings.filterwarnings('ignore')\n",
        "\n",
        "#--------------------\n",
        "# tunable-parameters\n",
        "#--------------------\n",
        "num_trees = 100\n",
        "test_size = 0.20\n",
        "seed      = 9\n",
        "train_path = \"dataset/train\"\n",
        "test_path  = \"dataset/test\"\n",
        "h5_train_data    = 'output/train_data.h5'\n",
        "h5_train_labels  = 'output/train_labels.h5'\n",
        "scoring    = \"accuracy\"\n",
        "\n",
        "# get the training labels\n",
        "train_labels = os.listdir(train_path)\n",
        "\n",
        "# sort the training labels\n",
        "train_labels.sort()\n",
        "\n",
        "if not os.path.exists(test_path):\n",
        "    os.makedirs(test_path)\n",
        "\n",
        "# create all the machine learning models\n",
        "models = []\n",
        "models.append(('LR', LogisticRegression(random_state=seed)))\n",
        "models.append(('LDA', LinearDiscriminantAnalysis()))\n",
        "models.append(('KNN', KNeighborsClassifier()))\n",
        "models.append(('CART', DecisionTreeClassifier(random_state=seed)))\n",
        "models.append(('RF', RandomForestClassifier(n_estimators=num_trees, random_state=seed)))\n",
        "models.append(('NB', GaussianNB()))\n",
        "models.append(('SVM', SVC(random_state=seed)))\n",
        "\n",
        "# variables to hold the results and names\n",
        "results = []\n",
        "names   = []\n",
        "\n",
        "# import the feature vector and trained labels\n",
        "h5f_data  = h5py.File(h5_train_data, 'r')\n",
        "h5f_label = h5py.File(h5_train_labels, 'r')\n",
        "\n",
        "global_features_string = h5f_data['dataset_1']\n",
        "global_labels_string   = h5f_label['dataset_1']\n",
        "\n",
        "global_features = np.array(global_features_string)\n",
        "global_labels   = np.array(global_labels_string)\n",
        "\n",
        "h5f_data.close()\n",
        "h5f_label.close()\n",
        "\n",
        "# verify the shape of the feature vector and labels\n",
        "print(\"[STATUS] features shape: {}\".format(global_features.shape))\n",
        "print(\"[STATUS] labels shape: {}\".format(global_labels.shape))\n",
        "\n",
        "print(\"[STATUS] training started...\")"
      ],
      "metadata": {
        "colab": {
          "base_uri": "https://localhost:8080/"
        },
        "id": "n24vqwGNpM0L",
        "outputId": "7a7bc465-9f4e-49fb-d4c1-ebc70b4bee16"
      },
      "execution_count": null,
      "outputs": [
        {
          "output_type": "stream",
          "name": "stdout",
          "text": [
            "[STATUS] features shape: (3200, 532)\n",
            "[STATUS] labels shape: (3200,)\n",
            "[STATUS] training started...\n"
          ]
        }
      ]
    },
    {
      "cell_type": "code",
      "source": [
        "# split the training and testing data\n",
        "(trainDataGlobal, testDataGlobal, trainLabelsGlobal, testLabelsGlobal) = train_test_split(np.array(global_features),\n",
        "                                                                                          np.array(global_labels),\n",
        "                                                                                          test_size=test_size,\n",
        "                                                                                          random_state=seed)\n",
        "\n",
        "print(\"[STATUS] splitted train and test data...\")\n",
        "print(\"Train data  : {}\".format(trainDataGlobal.shape))\n",
        "print(\"Test data   : {}\".format(testDataGlobal.shape)) \n"
      ],
      "metadata": {
        "colab": {
          "base_uri": "https://localhost:8080/"
        },
        "id": "LzZXkSTupMxo",
        "outputId": "33a753ed-d886-4851-ee72-b1cdc63e4a93"
      },
      "execution_count": null,
      "outputs": [
        {
          "output_type": "stream",
          "name": "stdout",
          "text": [
            "[STATUS] splitted train and test data...\n",
            "Train data  : (2560, 532)\n",
            "Test data   : (640, 532)\n"
          ]
        }
      ]
    },
    {
      "cell_type": "code",
      "source": [
        "trainDataGlobal"
      ],
      "metadata": {
        "colab": {
          "base_uri": "https://localhost:8080/"
        },
        "id": "726cP8kRpMuh",
        "outputId": "74f0f9ad-f4a6-4568-8dd9-39926def05d9"
      },
      "execution_count": null,
      "outputs": [
        {
          "output_type": "execute_result",
          "data": {
            "text/plain": [
              "array([[0.94841559, 0.03634138, 0.        , ..., 0.01058888, 0.12693561,\n",
              "        0.96573219],\n",
              "       [0.99116547, 0.04421731, 0.15910779, ..., 0.01067093, 0.13053338,\n",
              "        0.96571272],\n",
              "       [0.9888642 , 0.00192622, 0.00155258, ..., 0.01101657, 0.12930965,\n",
              "        0.96523171],\n",
              "       ...,\n",
              "       [0.80833075, 0.03775402, 0.00276642, ..., 0.01058889, 0.1269317 ,\n",
              "        0.96573212],\n",
              "       [0.96965597, 0.        , 0.        , ..., 0.01058989, 0.1271198 ,\n",
              "        0.96574232],\n",
              "       [0.98389776, 0.19183335, 0.15462199, ..., 0.01058898, 0.12695993,\n",
              "        0.96573136]])"
            ]
          },
          "metadata": {},
          "execution_count": 21
        }
      ]
    },
    {
      "cell_type": "code",
      "source": [
        "# 10-fold cross validation\n",
        "for name, model in models:\n",
        "    kfold = KFold(n_splits=10, random_state=seed, shuffle=True)\n",
        "    cv_results = cross_val_score(model, trainDataGlobal, trainLabelsGlobal, cv=kfold, scoring=scoring)\n",
        "    results.append(cv_results)\n",
        "    names.append(name)\n",
        "    msg = \"%s: %f (%f)\" % (name, cv_results.mean(), cv_results.std())\n",
        "    print(msg)\n",
        "\n",
        "# boxplot algorithm comparison\n",
        "fig = pyplot.figure()\n",
        "fig.suptitle('Machine Learning algorithm comparison')\n",
        "ax = fig.add_subplot(111)\n",
        "pyplot.boxplot(results)\n",
        "ax.set_xticklabels(names)\n",
        "pyplot.show()"
      ],
      "metadata": {
        "colab": {
          "base_uri": "https://localhost:8080/",
          "height": 421
        },
        "id": "x1ZkWy0opMrJ",
        "outputId": "6b634150-f178-4ffd-f370-0042327d295b"
      },
      "execution_count": null,
      "outputs": [
        {
          "output_type": "stream",
          "name": "stdout",
          "text": [
            "LR: 0.933984 (0.015669)\n",
            "LDA: 0.931250 (0.013777)\n",
            "KNN: 0.945703 (0.017768)\n",
            "CART: 0.975781 (0.008341)\n",
            "RF: 0.987891 (0.009318)\n",
            "NB: 0.860547 (0.018243)\n",
            "SVM: 0.934766 (0.012961)\n"
          ]
        },
        {
          "output_type": "display_data",
          "data": {
            "text/plain": [
              "<Figure size 432x288 with 1 Axes>"
            ],
            "image/png": "[encoded data removed]"
          },
          "metadata": {
            "needs_background": "light"
          }
        }
      ]
    },
    {
      "cell_type": "code",
      "source": [
        "clf  = RandomForestClassifier(n_estimators=num_trees, random_state=seed)\n",
        "clf.fit(trainDataGlobal, trainLabelsGlobal)"
      ],
      "metadata": {
        "colab": {
          "base_uri": "https://localhost:8080/"
        },
        "id": "SZ_MZmJ-pMmf",
        "outputId": "65b442a6-1dcf-4fc7-a1db-bdb1b7c98ecf"
      },
      "execution_count": null,
      "outputs": [
        {
          "output_type": "execute_result",
          "data": {
            "text/plain": [
              "RandomForestClassifier(random_state=9)"
            ]
          },
          "metadata": {},
          "execution_count": 24
        }
      ]
    },
    {
      "cell_type": "code",
      "source": [
        "y_predict=clf.predict(testDataGlobal)\n",
        "y_predict\n"
      ],
      "metadata": {
        "colab": {
          "base_uri": "https://localhost:8080/"
        },
        "id": "3xOVolUZpdC8",
        "outputId": "e26a37ff-efd7-4a85-b208-b5d0a3d4b606"
      },
      "execution_count": null,
      "outputs": [
        {
          "output_type": "execute_result",
          "data": {
            "text/plain": [
              "array([0, 0, 0, 0, 0, 0, 0, 0, 0, 0, 0, 0, 0, 0, 0, 0, 1, 0, 1, 0, 1, 1,\n",
              "       1, 1, 0, 0, 0, 1, 0, 1, 0, 1, 0, 1, 1, 1, 1, 0, 1, 1, 0, 1, 1, 0,\n",
              "       0, 1, 1, 1, 0, 1, 0, 1, 1, 0, 0, 1, 0, 0, 0, 0, 1, 1, 1, 0, 1, 1,\n",
              "       1, 0, 1, 1, 0, 0, 0, 0, 1, 0, 1, 0, 1, 0, 0, 1, 1, 0, 0, 1, 0, 0,\n",
              "       0, 1, 1, 0, 0, 1, 1, 0, 1, 0, 1, 1, 0, 0, 1, 1, 1, 1, 1, 1, 1, 1,\n",
              "       1, 1, 0, 0, 0, 1, 1, 0, 1, 0, 0, 0, 1, 1, 1, 0, 1, 1, 1, 1, 1, 0,\n",
              "       1, 1, 0, 1, 1, 1, 1, 1, 0, 1, 0, 1, 0, 0, 0, 0, 1, 1, 0, 0, 1, 0,\n",
              "       0, 1, 1, 0, 0, 0, 1, 0, 0, 1, 1, 0, 1, 0, 1, 1, 1, 0, 0, 0, 0, 1,\n",
              "       1, 0, 0, 1, 0, 0, 1, 0, 1, 1, 1, 1, 0, 1, 1, 1, 0, 0, 1, 1, 1, 1,\n",
              "       0, 0, 0, 1, 0, 1, 0, 0, 0, 1, 1, 1, 0, 0, 0, 0, 1, 1, 1, 0, 0, 0,\n",
              "       1, 0, 1, 0, 1, 0, 0, 0, 1, 1, 1, 0, 1, 0, 1, 0, 0, 0, 0, 0, 1, 1,\n",
              "       1, 1, 0, 1, 0, 1, 0, 0, 1, 0, 1, 1, 0, 1, 0, 0, 0, 0, 1, 1, 1, 1,\n",
              "       1, 1, 0, 1, 0, 1, 1, 0, 1, 1, 0, 1, 1, 1, 0, 1, 1, 0, 1, 0, 1, 1,\n",
              "       1, 0, 0, 0, 0, 1, 1, 1, 1, 0, 0, 0, 0, 0, 1, 1, 1, 0, 0, 1, 0, 1,\n",
              "       1, 0, 0, 1, 0, 0, 1, 1, 1, 0, 1, 1, 0, 1, 0, 0, 1, 0, 0, 1, 1, 1,\n",
              "       1, 1, 0, 0, 0, 0, 1, 0, 0, 1, 0, 0, 1, 1, 0, 0, 1, 0, 1, 1, 1, 1,\n",
              "       0, 0, 0, 1, 0, 0, 1, 1, 0, 0, 1, 1, 1, 0, 1, 0, 0, 1, 0, 1, 1, 1,\n",
              "       1, 0, 1, 0, 1, 1, 0, 0, 1, 1, 1, 1, 1, 0, 0, 0, 1, 0, 1, 1, 0, 0,\n",
              "       1, 1, 1, 1, 1, 1, 1, 0, 1, 0, 1, 1, 0, 1, 1, 1, 0, 1, 0, 1, 1, 1,\n",
              "       1, 1, 1, 0, 0, 1, 1, 1, 0, 1, 0, 0, 1, 0, 1, 0, 1, 0, 0, 1, 1, 1,\n",
              "       1, 0, 0, 0, 1, 1, 1, 0, 0, 0, 0, 0, 0, 1, 1, 1, 1, 1, 1, 1, 1, 0,\n",
              "       0, 0, 0, 1, 1, 0, 0, 0, 0, 1, 0, 1, 0, 0, 1, 0, 0, 0, 1, 0, 0, 0,\n",
              "       1, 1, 1, 1, 1, 0, 0, 0, 1, 0, 1, 1, 0, 1, 0, 1, 0, 1, 1, 1, 1, 0,\n",
              "       1, 0, 0, 0, 0, 0, 1, 0, 0, 0, 0, 0, 1, 1, 0, 1, 1, 0, 1, 0, 0, 1,\n",
              "       0, 1, 0, 0, 0, 1, 0, 0, 1, 0, 0, 1, 1, 1, 1, 0, 1, 0, 0, 0, 0, 0,\n",
              "       0, 0, 1, 0, 0, 1, 0, 0, 0, 0, 0, 1, 0, 0, 0, 0, 0, 0, 1, 1, 0, 1,\n",
              "       1, 1, 0, 1, 0, 1, 0, 0, 1, 0, 0, 0, 1, 1, 1, 0, 1, 1, 0, 1, 1, 0,\n",
              "       0, 0, 0, 0, 1, 1, 1, 0, 1, 0, 1, 0, 1, 1, 0, 0, 1, 1, 1, 1, 0, 1,\n",
              "       0, 1, 0, 1, 1, 0, 0, 0, 1, 0, 0, 0, 0, 1, 1, 1, 1, 0, 1, 1, 0, 1,\n",
              "       1, 0])"
            ]
          },
          "metadata": {},
          "execution_count": 25
        }
      ]
    },
    {
      "cell_type": "code",
      "source": [
        "cm = confusion_matrix(testLabelsGlobal,y_predict)\n",
        "import seaborn as sns\n",
        "sns.heatmap(cm ,annot=True)\n"
      ],
      "metadata": {
        "colab": {
          "base_uri": "https://localhost:8080/",
          "height": 283
        },
        "id": "zYRqcXFBpdAI",
        "outputId": "d1b3cbbf-c75b-4161-da4d-5454723013ef"
      },
      "execution_count": null,
      "outputs": [
        {
          "output_type": "execute_result",
          "data": {
            "text/plain": [
              "<matplotlib.axes._subplots.AxesSubplot at 0x7fa845370210>"
            ]
          },
          "metadata": {},
          "execution_count": 26
        },
        {
          "output_type": "display_data",
          "data": {
            "text/plain": [
              "<Figure size 432x288 with 2 Axes>"
            ],
            "image/png": "[encoded data removed]"
          },
          "metadata": {
            "needs_background": "light"
          }
        }
      ]
    },
    {
      "cell_type": "code",
      "source": [
        "\n",
        "\n",
        "print(classification_report(testLabelsGlobal,y_predict))\n"
      ],
      "metadata": {
        "colab": {
          "base_uri": "https://localhost:8080/"
        },
        "id": "ZKthnT2Hpc96",
        "outputId": "e3a2960a-7637-4e78-f89f-ee1f95f909e6"
      },
      "execution_count": null,
      "outputs": [
        {
          "output_type": "stream",
          "name": "stdout",
          "text": [
            "              precision    recall  f1-score   support\n",
            "\n",
            "           0       0.99      1.00      0.99       313\n",
            "           1       1.00      0.99      0.99       327\n",
            "\n",
            "    accuracy                           0.99       640\n",
            "   macro avg       0.99      0.99      0.99       640\n",
            "weighted avg       0.99      0.99      0.99       640\n",
            "\n"
          ]
        }
      ]
    },
    {
      "cell_type": "code",
      "source": [
        "from sklearn.metrics import accuracy_score\n",
        "accuracy_score(testLabelsGlobal, y_predict)\n",
        "\n"
      ],
      "metadata": {
        "colab": {
          "base_uri": "https://localhost:8080/"
        },
        "id": "0NvrU7LOpc61",
        "outputId": "e1934931-7479-4913-beac-b99df10e3a2d"
      },
      "execution_count": null,
      "outputs": [
        {
          "output_type": "execute_result",
          "data": {
            "text/plain": [
              "0.99375"
            ]
          },
          "metadata": {},
          "execution_count": 28
        }
      ]
    },
    {
      "cell_type": "code",
      "source": [
        ""
      ],
      "metadata": {
        "id": "d92xFi5Upc3e"
      },
      "execution_count": null,
      "outputs": []
    },
    {
      "cell_type": "markdown",
      "source": [
        "## CNN Learning\n"
      ],
      "metadata": {
        "id": "a374wXiKjHq1"
      }
    },
    {
      "cell_type": "code",
      "source": [
        "with open('./train_history/baseclass_highparams.hist', 'wb') as file_pi:\n",
        "        pickle.dump(results_base2.history, file_pi)"
      ],
      "metadata": {
        "id": "ts0dcNtnkXnR"
      },
      "execution_count": null,
      "outputs": []
    },
    {
      "cell_type": "markdown",
      "source": [
        "## Build High-Parameter Baseline Model"
      ],
      "metadata": {
        "id": "YQu-wuhekjrI"
      }
    },
    {
      "cell_type": "code",
      "source": [
        ""
      ],
      "metadata": {
        "id": "Nk701088k4q2"
      },
      "execution_count": null,
      "outputs": []
    },
    {
      "cell_type": "code",
      "source": [
        ""
      ],
      "metadata": {
        "id": "VRJll8-ak4n0"
      },
      "execution_count": null,
      "outputs": []
    },
    {
      "cell_type": "code",
      "source": [
        ""
      ],
      "metadata": {
        "id": "QzWH2BbEk4g0"
      },
      "execution_count": null,
      "outputs": []
    }
  ]
}